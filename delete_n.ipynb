{
 "cells": [
  {
   "cell_type": "code",
   "execution_count": 4,
   "id": "45147ad8",
   "metadata": {},
   "outputs": [],
   "source": [
    "with open('IntroductionToNetworkScience_OCR.txt', 'r') as file:\n",
    "    lines = file.readlines()\n",
    "\n",
    "with open('IntroductionToNetworkScience_OCR1.1.txt', 'w') as file:\n",
    "    for line in lines:\n",
    "        if line != '\\n':\n",
    "            if line[0:10] == '----------': \n",
    "                file.write('\\n') #去除-------pagei--------\n",
    "            else:\n",
    "                file.write(line.replace('\\n', '')) \n",
    "        else:\n",
    "            file.write('\\n') #将单独空行保留"
   ]
  },
  {
   "cell_type": "code",
   "execution_count": 4,
   "id": "3e650440",
   "metadata": {},
   "outputs": [
    {
     "data": {
      "text/plain": [
       "'--------------------Page417--------------------\\n'"
      ]
     },
     "execution_count": 4,
     "metadata": {},
     "output_type": "execute_result"
    }
   ],
   "source": [
    "line"
   ]
  },
  {
   "cell_type": "code",
   "execution_count": 6,
   "id": "49ce10d1",
   "metadata": {},
   "outputs": [
    {
     "data": {
      "text/plain": [
       "'\\n'"
      ]
     },
     "execution_count": 6,
     "metadata": {},
     "output_type": "execute_result"
    }
   ],
   "source": [
    "lines[1]"
   ]
  },
  {
   "cell_type": "code",
   "execution_count": 3,
   "id": "993ec0a5",
   "metadata": {},
   "outputs": [
    {
     "data": {
      "text/plain": [
       "'----'"
      ]
     },
     "execution_count": 3,
     "metadata": {},
     "output_type": "execute_result"
    }
   ],
   "source": [
    "s = '-----'\n",
    "s[0:4]"
   ]
  },
  {
   "cell_type": "code",
   "execution_count": null,
   "id": "a890e0b8",
   "metadata": {},
   "outputs": [],
   "source": []
  }
 ],
 "metadata": {
  "kernelspec": {
   "display_name": "Python 3 (ipykernel)",
   "language": "python",
   "name": "python3"
  },
  "language_info": {
   "codemirror_mode": {
    "name": "ipython",
    "version": 3
   },
   "file_extension": ".py",
   "mimetype": "text/x-python",
   "name": "python",
   "nbconvert_exporter": "python",
   "pygments_lexer": "ipython3",
   "version": "3.8.0"
  }
 },
 "nbformat": 4,
 "nbformat_minor": 5
}
