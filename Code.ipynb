{
 "cells": [
  {
   "cell_type": "code",
   "execution_count": 4,
   "id": "0af14001",
   "metadata": {
    "scrolled": false
   },
   "outputs": [
    {
     "ename": "SyntaxError",
     "evalue": "invalid syntax (594065383.py, line 1)",
     "output_type": "error",
     "traceback": [
      "\u001b[1;36m  Input \u001b[1;32mIn [4]\u001b[1;36m\u001b[0m\n\u001b[1;33m    pip install pytesseract;\u001b[0m\n\u001b[1;37m        ^\u001b[0m\n\u001b[1;31mSyntaxError\u001b[0m\u001b[1;31m:\u001b[0m invalid syntax\n"
     ]
    }
   ],
   "source": [
    "#pip install pytesseract\n",
    "#pip install pdf2image\n",
    "#Attention: download poppler in https://github.com/oschwartz10612/poppler-windows/releases/ and then unzip, poppler_path is used\n",
    "#Attention: download tesseract in https://github.com/UB-Mannheim/tesseract/wiki and then unzip, pytesseract.pytesseract.tesseract_cmd is used\n",
    "\n"
   ]
  },
  {
   "cell_type": "code",
   "execution_count": 5,
   "id": "78cdf61d",
   "metadata": {},
   "outputs": [],
   "source": [
    "#Transfer pdf to jpg\n",
    "from pdf2image import convert_from_path\n",
    "\n",
    "images = convert_from_path('IntroductionToNetworkScience.pdf',poppler_path=r'C:\\software\\python3\\Lib\\site-packages\\poppler-22.12.0\\Library\\bin')\n",
    "\n",
    "for i in range(len(images)):\n",
    "   \n",
    "      # Save pages as images in the pdf\n",
    "    images[i].save(f'images/page{i}.jpg', 'JPEG')"
   ]
  },
  {
   "cell_type": "code",
   "execution_count": 1,
   "id": "d108cc3f",
   "metadata": {},
   "outputs": [],
   "source": [
    "#tesseract OCR\n",
    "import pytesseract\n",
    "from PIL import Image\n",
    "import glob\n",
    "\n",
    "pytesseract.pytesseract.tesseract_cmd = r'C:\\software\\python3\\Lib\\site-packages\\tesseract.exe'\n",
    "f = open(\"IntroductionToNetworkScience_OCR.txt\",'w')\n",
    "\n",
    "# Open image file，\n",
    "pages = sorted(glob.glob(\"images/page*\"))\n",
    "for i in range(len(pages)-1):\n",
    "    image = Image.open(f'page{i}.jpg')\n",
    "\n",
    "    # Recognize text\n",
    "    text = pytesseract.image_to_string(image,lang='chi_sim')\n",
    "    f.write(text)\n",
    "    f.write(f\"\\n--------------------Page{i+1}--------------------\\n\")\n",
    "    \n",
    "f.close()"
   ]
  },
  {
   "cell_type": "code",
   "execution_count": 35,
   "id": "500aafef",
   "metadata": {},
   "outputs": [
    {
     "name": "stderr",
     "output_type": "stream",
     "text": [
      "Using CPU. Note: This module is much faster with a GPU.\n"
     ]
    },
    {
     "name": "stdout",
     "output_type": "stream",
     "text": [
      "\n",
      " ==== OCR cost time: 30.21981692314148 ====\n",
      "3\n",
      "网络科学导论\n",
      "汪小帆\n",
      "李\n",
      "翔\n",
      "陈关荣\n",
      "\n",
      " ==== OCR cost time: 43.61121964454651 ====\n"
     ]
    }
   ],
   "source": [
    "#EasyOCR 27-45s 1picture 用不了，错的太多了\n",
    "from PIL import Image\n",
    "import glob\n",
    "import easyocr\n",
    "import time\n",
    "reader = easyocr.Reader(['ch_sim'], gpu=False)\n",
    "\n",
    "f = open(\"IntroductionToNetworkScience_EasyOCR.txt\",'w')\n",
    "\n",
    "# Open image file，\n",
    "pages = sorted(glob.glob(\"images/page*\"))\n",
    "for i in range(2): #for i in range(len(pages)-1):\n",
    "    image = Image.open(f'images/page{i}.jpg')\n",
    "\n",
    "    # Recognize text\n",
    "    start_time = time.time()\n",
    "    text = reader.readtext(image)\n",
    "    end_time = time.time()\n",
    "    print('\\n ==== OCR cost time: {} ===='.format(end_time-start_time))\n",
    "    \n",
    "    significance = 0.1\n",
    "    for data in text:\n",
    "        location = data[0]\n",
    "        word = data[1]\n",
    "        confidence = data[2]\n",
    "        if (1-confidence) < significance:\n",
    "            print (data[1])\n",
    "            f.write(data[1])\n",
    "    f.write(f\"\\n--------------------Page{i+1}--------------------\\n\")\n",
    "    \n",
    "f.close()\n"
   ]
  },
  {
   "cell_type": "code",
   "execution_count": null,
   "id": "792482b8",
   "metadata": {},
   "outputs": [],
   "source": []
  }
 ],
 "metadata": {
  "kernelspec": {
   "display_name": "Python 3 (ipykernel)",
   "language": "python",
   "name": "python3"
  },
  "language_info": {
   "codemirror_mode": {
    "name": "ipython",
    "version": 3
   },
   "file_extension": ".py",
   "mimetype": "text/x-python",
   "name": "python",
   "nbconvert_exporter": "python",
   "pygments_lexer": "ipython3",
   "version": "3.8.0"
  }
 },
 "nbformat": 4,
 "nbformat_minor": 5
}
